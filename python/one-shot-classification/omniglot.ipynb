{
 "cells": [
  {
   "cell_type": "code",
   "execution_count": 1,
   "metadata": {},
   "outputs": [],
   "source": [
    "from __future__ import print_function\n",
    "from ae_classifier import AE_classifier, read_data\n",
    "import numpy as np\n",
    "from PIL import Image\n",
    "import random\n",
    "import matplotlib.pyplot as plt\n",
    "%matplotlib inline"
   ]
  },
  {
   "cell_type": "code",
   "execution_count": 2,
   "metadata": {},
   "outputs": [],
   "source": [
    "# Read the training data\n",
    "imgs, labels, classes = read_data('../images_background')"
   ]
  },
  {
   "cell_type": "code",
   "execution_count": 3,
   "metadata": {},
   "outputs": [
    {
     "name": "stdout",
     "output_type": "stream",
     "text": [
      "Image size: (105, 105)\n",
      "Max. pixel value: 1.0\n",
      "Min. pixel value: 0.0\n"
     ]
    }
   ],
   "source": [
    "sample_image = imgs[0]\n",
    "print('Image size:', sample_image.shape)\n",
    "print('Max. pixel value:', sample_image.max())\n",
    "print('Min. pixel value:', sample_image.min())"
   ]
  },
  {
   "cell_type": "markdown",
   "metadata": {},
   "source": [
    "It can be seen that the image is single channel, and the pixel values are already normalized."
   ]
  },
  {
   "cell_type": "code",
   "execution_count": 4,
   "metadata": {},
   "outputs": [
    {
     "name": "stdout",
     "output_type": "stream",
     "text": [
      "Sample class names:\n",
      " ../images_background/Gujarati/character42\n",
      "../images_background/Gujarati/character45\n",
      "../images_background/Gujarati/character11\n",
      "../images_background/Gujarati/character16\n",
      "../images_background/Gujarati/character29\n",
      "Number of classes:  964\n"
     ]
    }
   ],
   "source": [
    "print('Sample class names:\\n', '\\n'.join(classes[:5]))\n",
    "print('Number of classes: ', len(classes))"
   ]
  },
  {
   "cell_type": "markdown",
   "metadata": {},
   "source": [
    "\n",
    "### Some specifics about the model (The complete details can be found in the ae_classifier.py file):\n",
    "*It is my preference to work using a object oriented approach, thus, while I explain the basis of my model here, I have added detailed comments to the .py files themselves*\n",
    "\n",
    "1. It is hypothesized that if the model can reconstruct the image, then it has learned important semantic features about image. Correct classification is also an indication for the same.\n",
    "2. The model can be described in 3 parts, the Encoder, the Decoder and the Classifier:\n",
    "    * The Encoder outputs the feature representations of the input images\n",
    "    * The Decoder tries to reconstruct the original image from the generated features by the encoder\n",
    "    * The Classifier tries to output a probability distribution over the classes using the features from the encoder\n",
    "3. There are two losses we optimize over:\n",
    "    * Reconstruction loss: The difference in the original image and the generated image, measured as the mean-squared error or the cross-entropic loss (cross entropic loss was found to work much better in our case)\n",
    "    * Softmax cross-entropic loss: The error between the predicted class (softmax of the Classifier output) and the actual class label for the image.\n",
    "4. We train the encoder for the combined loss, the classifier for the classification loss only and the decoder for the reconstruction loss only. If the hypothesis is true, the model should learn important features about the image.\n",
    "5. The encoder is a stack of **4**, **stride=2**, convolutional layers with **leaky_relu** activations on all layers except the last, which has None.  Each layer uses multiple size kernels and concatenates the results for the final output, specifically **[3,5,7]**. The final output shape is **[batch_size, 4, 4, 192]**\n",
    "6. The classifier flattens the features to **[batch_size, 3072]**, and applies **2 dense layers** for the final *logit* output.\n",
    "7. Various architectures were explored for the decoder. Simple deconvolutions with **stride=2**; *Multi-kernel* **stride=2** deconvolutions; **Residual** added deconvolutions. It was observed that the choice of decoder architecture influenced the final test accuracy greatly. The Residual deconvolution seemed to perform the best. The details of it can be found in the 'ops.py' file.\n",
    "8. Different forms of regularizers were also tested, like, Dropout, Batch Normalizer and Layer Normalizer. It was observed that in our case, using none of them anywhere resulted in the best performance.\n",
    "9. The model is trained via minimising the combined loss using an **RMSPropOptimizer** with a learning rate of **1e-4**. The gradients are allowed to propagate to all the possible variables (which works exactly in the same way as stated in *4*) \n",
    "10. During test time the image is passed through the encoder to yield important features. For comparison, a squared difference between the two feature sets is taken as the semantic distance. The decoder output serves as the reconstruction of the image."
   ]
  },
  {
   "cell_type": "code",
   "execution_count": 5,
   "metadata": {},
   "outputs": [
    {
     "name": "stdout",
     "output_type": "stream",
     "text": [
      "AE_classifier/train/graph/encoder/c0/LeakyRelu/Maximum:0 (?, 32, 32, 24)\n",
      "AE_classifier/train/graph/encoder/c1/LeakyRelu/Maximum:0 (?, 16, 16, 48)\n",
      "AE_classifier/train/graph/encoder/c2/LeakyRelu/Maximum:0 (?, 8, 8, 96)\n",
      "AE_classifier/train/graph/encoder/c3/add:0 (?, 4, 4, 192)\n",
      "AE_classifier/train/graph/decoder/d0/add:0 (?, 8, 8, 96)\n",
      "AE_classifier/train/graph/decoder/d1/add:0 (?, 16, 16, 48)\n",
      "AE_classifier/train/graph/decoder/d2/add:0 (?, 32, 32, 24)\n",
      "AE_classifier/train/graph/decoder/d3/add:0 (?, 64, 64, 1)\n",
      "AE_classifier/train/graph/classifier/h0:0 (?, 3072)\n",
      "AE_classifier/train/graph/classifier/h1/LeakyRelu/Maximum:0 (?, 3072)\n",
      "AE_classifier/train/graph/classifier/h2/LeakyRelu/Maximum:0 (?, 3072)\n",
      "AE_classifier/train/graph/classifier/h3/BiasAdd:0 (?, 964)\n",
      "AE_classifier/inference/graph/encoder/c0/LeakyRelu/Maximum:0 (?, 32, 32, 24)\n",
      "AE_classifier/inference/graph/encoder/c1/LeakyRelu/Maximum:0 (?, 16, 16, 48)\n",
      "AE_classifier/inference/graph/encoder/c2/LeakyRelu/Maximum:0 (?, 8, 8, 96)\n",
      "AE_classifier/inference/graph/encoder/c3/add:0 (?, 4, 4, 192)\n",
      "AE_classifier/inference/graph/decoder/d0/add:0 (?, 8, 8, 96)\n",
      "AE_classifier/inference/graph/decoder/d1/add:0 (?, 16, 16, 48)\n",
      "AE_classifier/inference/graph/decoder/d2/add:0 (?, 32, 32, 24)\n",
      "AE_classifier/inference/graph/decoder/d3/add:0 (?, 64, 64, 1)\n",
      "AE_classifier/inference/graph/classifier/h0:0 (?, 3072)\n",
      "AE_classifier/inference/graph/classifier/h1/LeakyRelu/Maximum:0 (?, 3072)\n",
      "AE_classifier/inference/graph/classifier/h2/LeakyRelu/Maximum:0 (?, 3072)\n",
      "AE_classifier/inference/graph/classifier/h3/BiasAdd:0 (?, 964)\n",
      "Run id: 20181016_183055\n"
     ]
    }
   ],
   "source": [
    "ae_cl = AE_classifier(classes, name='default')"
   ]
  },
  {
   "cell_type": "code",
   "execution_count": 6,
   "metadata": {},
   "outputs": [
    {
     "name": "stdout",
     "output_type": "stream",
     "text": [
      "loading default model...\n",
      "INFO:tensorflow:Restoring parameters from AE_classifier/default/saves/AE_classifier.ckpt-12040\n",
      "[16/Oct/2018 18:31:02] INFO - Restoring parameters from AE_classifier/default/saves/AE_classifier.ckpt-12040\n"
     ]
    },
    {
     "name": "stderr",
     "output_type": "stream",
     "text": [
      "Traceback (most recent call last):\n",
      "  File \"/usr/local/Cellar/python@2/2.7.15/Frameworks/Python.framework/Versions/2.7/lib/python2.7/logging/__init__.py\", line 868, in emit\n",
      "    msg = self.format(record)\n",
      "  File \"/usr/local/Cellar/python@2/2.7.15/Frameworks/Python.framework/Versions/2.7/lib/python2.7/logging/__init__.py\", line 741, in format\n",
      "    return fmt.format(record)\n",
      "  File \"/usr/local/Cellar/python@2/2.7.15/Frameworks/Python.framework/Versions/2.7/lib/python2.7/logging/__init__.py\", line 465, in format\n",
      "    record.message = record.getMessage()\n",
      "  File \"/usr/local/Cellar/python@2/2.7.15/Frameworks/Python.framework/Versions/2.7/lib/python2.7/logging/__init__.py\", line 329, in getMessage\n",
      "    msg = msg % self.args\n",
      "TypeError: not all arguments converted during string formatting\n",
      "Logged from file ae_classifier.py, line 69\n"
     ]
    },
    {
     "data": {
      "text/plain": [
       "True"
      ]
     },
     "execution_count": 6,
     "metadata": {},
     "output_type": "execute_result"
    }
   ],
   "source": [
    "# Train a new model or load a previously trained model\n",
    "# ae_cl.train(imgs, labels)\n",
    "ae_cl.load()"
   ]
  },
  {
   "cell_type": "markdown",
   "metadata": {},
   "source": [
    "### Testing out the quality of reconstructions, more alignment with the original image indicates that the model understands the image, thus, a better model"
   ]
  },
  {
   "cell_type": "code",
   "execution_count": 7,
   "metadata": {},
   "outputs": [],
   "source": [
    "def plot_images_recons(images, recons):\n",
    "    n = len(images)\n",
    "    fig = plt.figure(figsize=(10,10))\n",
    "    for i in range(n):\n",
    "        img = images[i]\n",
    "        fig.add_subplot(n, 2, 2*i+1)\n",
    "        plt.imshow(img)\n",
    "        recon = recons[i]\n",
    "        fig.add_subplot(n, 2, 2*i+2)\n",
    "        plt.imshow(recon)\n",
    "    plt.show()"
   ]
  },
  {
   "cell_type": "code",
   "execution_count": 8,
   "metadata": {},
   "outputs": [],
   "source": [
    "num_samples = 4"
   ]
  },
  {
   "cell_type": "code",
   "execution_count": 9,
   "metadata": {},
   "outputs": [],
   "source": [
    "sample_imgs = random.sample(imgs, num_samples)"
   ]
  },
  {
   "cell_type": "code",
   "execution_count": 10,
   "metadata": {},
   "outputs": [],
   "source": [
    "sample_recons = ae_cl.img_reconstruction(sample_imgs)"
   ]
  },
  {
   "cell_type": "code",
   "execution_count": 11,
   "metadata": {},
   "outputs": [
    {
     "data": {
      "image/png": "[encoded data removed]",
      "text/plain": [
       "<Figure size 720x720 with 8 Axes>"
      ]
     },
     "metadata": {},
     "output_type": "display_data"
    }
   ],
   "source": [
    "plot_images_recons(sample_imgs, sample_recons)"
   ]
  },
  {
   "cell_type": "markdown",
   "metadata": {},
   "source": [
    "## Test dataset"
   ]
  },
  {
   "cell_type": "code",
   "execution_count": 12,
   "metadata": {},
   "outputs": [],
   "source": [
    "test_imgs, test_labels, _ = read_data('../images_evaluation')"
   ]
  },
  {
   "cell_type": "code",
   "execution_count": 13,
   "metadata": {},
   "outputs": [],
   "source": [
    "sample_test_images = random.sample(test_imgs, num_samples)\n",
    "sample_test_recons = ae_cl.img_reconstruction(sample_test_images)"
   ]
  },
  {
   "cell_type": "code",
   "execution_count": 14,
   "metadata": {
    "scrolled": false
   },
   "outputs": [
    {
     "data": {
      "image/png": "[encoded data removed]",
      "text/plain": [
       "<Figure size 720x720 with 8 Axes>"
      ]
     },
     "metadata": {},
     "output_type": "display_data"
    }
   ],
   "source": [
    "plot_images_recons(sample_test_images, sample_test_recons)"
   ]
  },
  {
   "cell_type": "markdown",
   "metadata": {},
   "source": [
    "### It can be seen that the reconstrcutions align with the original images. This indicates that the model does indeed 'understand' the characters in the test set\n",
    "\n",
    "Below code is taken from demo_classification.py file from https://github.com/brendenlake/omniglot"
   ]
  },
  {
   "cell_type": "code",
   "execution_count": 15,
   "metadata": {},
   "outputs": [],
   "source": [
    "import copy\n",
    "\n",
    "# Parameters\n",
    "nrun = 20 # number of classification runs\n",
    "fname_label = 'class_labels.txt' # where class labels are stored for each run"
   ]
  },
  {
   "cell_type": "code",
   "execution_count": 16,
   "metadata": {},
   "outputs": [],
   "source": [
    "def classification_run(folder,f_load,f_cost,ftype='cost'):\n",
    "    # Compute error rate for one run of one-shot classification\n",
    "    #\n",
    "    # Input\n",
    "    #  folder : contains images for a run of one-shot classification\n",
    "    #  f_load : itemA = f_load('file.png') should read in the image file and process it\n",
    "    #  f_cost : f_cost(itemA,itemB) should compute similarity between two images, using output of f_load\n",
    "    #  ftype  : 'cost' if small values from f_cost mean more similar, or 'score' if large values are more similar\n",
    "    #\n",
    "    # Output\n",
    "    #  perror : percent errors (0 to 100% error)\n",
    "    # \n",
    "    assert ((ftype=='cost') | (ftype=='score'))\n",
    "\n",
    "    # get file names\n",
    "    with open(folder+'/'+fname_label) as f:\n",
    "        content = f.read().splitlines()\n",
    "    pairs = [line.split() for line in content]\n",
    "    test_files  = [pair[0] for pair in pairs]\n",
    "    train_files = [pair[1] for pair in pairs]\n",
    "    answers_files = copy.copy(train_files)\n",
    "    test_files.sort()\n",
    "    train_files.sort()\t\n",
    "    ntrain = len(train_files)\n",
    "    ntest = len(test_files)\n",
    "\n",
    "    # load the images (and, if needed, extract features)\n",
    "    train_items = [f_load(f) for f in train_files]\n",
    "    test_items  = [f_load(f) for f in test_files ]\n",
    "\n",
    "    # compute cost matrix\n",
    "    costM = np.zeros((ntest,ntrain),float)\n",
    "    for i in range(ntest):\n",
    "        for c in range(ntrain):\n",
    "            costM[i,c] = f_cost(test_items[i],train_items[c])\n",
    "    if ftype == 'cost':\n",
    "        YHAT = np.argmin(costM,axis=1)\n",
    "    elif ftype == 'score':\n",
    "        YHAT = np.argmax(costM,axis=1)\n",
    "    else:\n",
    "        assert False\n",
    "\n",
    "    # compute the error rate\n",
    "    correct = 0.0\n",
    "    for i in range(ntest):\n",
    "        if train_files[YHAT[i]] == answers_files[i]:\n",
    "            correct += 1.0\n",
    "    pcorrect = 100 * correct / ntest\n",
    "    perror = 100 - pcorrect\n",
    "    return perror"
   ]
  },
  {
   "cell_type": "code",
   "execution_count": 17,
   "metadata": {},
   "outputs": [],
   "source": [
    "def load_img(fn):\n",
    "    return np.asarray(Image.open(fn), dtype=np.float32)"
   ]
  },
  {
   "cell_type": "code",
   "execution_count": 18,
   "metadata": {},
   "outputs": [
    {
     "name": "stdout",
     "output_type": "stream",
     "text": [
      " run 1 (error 90.0%)\n",
      " run 2 (error 95.0%)\n",
      " run 3 (error 95.0%)\n",
      " run 4 (error 90.0%)\n",
      " run 5 (error 90.0%)\n",
      " run 6 (error 95.0%)\n",
      " run 7 (error 95.0%)\n",
      " run 8 (error 95.0%)\n",
      " run 9 (error 95.0%)\n",
      " run 10 (error 95.0%)\n",
      " run 11 (error 80.0%)\n",
      " run 12 (error 95.0%)\n",
      " run 13 (error 95.0%)\n",
      " run 14 (error 95.0%)\n",
      " run 15 (error 95.0%)\n",
      " run 16 (error 95.0%)\n",
      " run 17 (error 95.0%)\n",
      " run 18 (error 90.0%)\n",
      " run 19 (error 100.0%)\n",
      " run 20 (error 90.0%)\n",
      " average error 93.25%\n"
     ]
    }
   ],
   "source": [
    "perror = np.zeros(nrun)\n",
    "for r in range(1,nrun+1):\n",
    "    rs = str(r)\n",
    "    if len(rs)==1:\n",
    "        rs = '0' + rs\n",
    "    perror[r-1] = classification_run('run'+rs, load_img, ae_cl.feature_distance, 'cost')\n",
    "    print(\" run \" + str(r) + \" (error \" + str(perror[r-1] ) + \"%)\")\n",
    "total = np.mean(perror)\n",
    "print(\" average error \" + str(total) + \"%\")"
   ]
  },
  {
   "cell_type": "markdown",
   "metadata": {},
   "source": [
    "### The average error is found to be 93.25%, the state of the art established currently is 93.75% by 'Matching Networks for One Shot Learning'.\n",
    "During multiple runs the lowest score was found to be 93.00%, this is because of the randomness in initialization of varaibles at each run"
   ]
  }
 ],
 "metadata": {
  "kernelspec": {
   "display_name": "Python 2",
   "language": "python",
   "name": "python2"
  },
  "language_info": {
   "codemirror_mode": {
    "name": "ipython",
    "version": 2
   },
   "file_extension": ".py",
   "mimetype": "text/x-python",
   "name": "python",
   "nbconvert_exporter": "python",
   "pygments_lexer": "ipython2",
   "version": "2.7.15"
  }
 },
 "nbformat": 4,
 "nbformat_minor": 2
}
